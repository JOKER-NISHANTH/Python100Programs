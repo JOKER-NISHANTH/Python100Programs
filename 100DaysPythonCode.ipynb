{
  "nbformat": 4,
  "nbformat_minor": 0,
  "metadata": {
    "colab": {
      "name": "100DaysPythonCode",
      "provenance": [],
      "authorship_tag": "ABX9TyNMpn8lET0jav3Ik96mPEnn",
      "include_colab_link": true
    },
    "kernelspec": {
      "name": "python3",
      "display_name": "Python 3"
    }
  },
  "cells": [
    {
      "cell_type": "markdown",
      "metadata": {
        "id": "view-in-github",
        "colab_type": "text"
      },
      "source": [
        "<a href=\"https://colab.research.google.com/github/JOKER-NISHANTH/Python100Programs/blob/main/100DaysPythonCode.ipynb\" target=\"_parent\"><img src=\"https://colab.research.google.com/assets/colab-badge.svg\" alt=\"Open In Colab\"/></a>"
      ]
    },
    {
      "cell_type": "markdown",
      "metadata": {
        "id": "flBz5IT9s0kg"
      },
      "source": [
        ""
      ]
    },
    {
      "cell_type": "markdown",
      "metadata": {
        "id": "nGbVVqO3bt9p"
      },
      "source": [
        "#Day 1\n",
        " **Write a program which will find all such numbers which are divisible by 7 but are not a multiple of 5,\n",
        "between 2000 and 3200 (both included).\n",
        "The numbers obtained should be printed in a comma-separated sequence on a single line.**\n",
        "\n",
        "\n"
      ]
    },
    {
      "cell_type": "code",
      "metadata": {
        "id": "BxyBp5_araNF"
      },
      "source": [
        "result=[]\n",
        "\n",
        "for i in range(2000,3201):\n",
        "  \n",
        "  if (i%7==0 and not (i%5==0)):\n",
        "    result.append(str(i))\n",
        "print(result)\n",
        "print(\",\".join(result))\n",
        "      \n"
      ],
      "execution_count": null,
      "outputs": []
    },
    {
      "cell_type": "code",
      "metadata": {
        "id": "DiyJVEPJeYdh"
      },
      "source": [
        "for num in range(2000,32001):\n",
        "  if (num%7==0 and num%5!=0):\n",
        "\n",
        "    print(num,end=\",\")\n",
        "\n",
        "\n"
      ],
      "execution_count": null,
      "outputs": []
    },
    {
      "cell_type": "code",
      "metadata": {
        "id": "VVhnkquZt2lT"
      },
      "source": [
        "result = [ str(i) for i in range(2000,3201) if ((i%7==0) and not (i%5==0))]\n",
        "\n",
        "print(result)\n",
        "print(\",\".join(result))"
      ],
      "execution_count": null,
      "outputs": []
    },
    {
      "cell_type": "markdown",
      "metadata": {
        "id": "b2z6DHqNxaaB"
      },
      "source": [
        "\n",
        "\n",
        "------------\n",
        "\n",
        "\n",
        "\n",
        "------------\n",
        "\n"
      ]
    },
    {
      "cell_type": "markdown",
      "metadata": {
        "id": "v8YpRQ6pcASS"
      },
      "source": [
        "# Day 2 \n",
        "**Write a program which can compute the factorial of a given numbers.\n",
        "The results should be printed in a single line.**\n",
        "\n",
        "-----------\n",
        "```\n",
        "Suppose the following input is supplied to the program:\n",
        "8\n",
        "Then, the output should be:\n",
        "40320\n",
        "```\n",
        "\n",
        "\n",
        "\n"
      ]
    },
    {
      "cell_type": "code",
      "metadata": {
        "id": "Xwv6Ds6aEEP4"
      },
      "source": [
        "# Using Loop\n",
        "\n",
        "fact = int(input(\"Enter your number  : \"))\n",
        "Result = 1\n",
        "for i in range(2,fact+1):\n",
        "  Result = Result *i\n",
        "print(Result) \n",
        "\n",
        "\n"
      ],
      "execution_count": null,
      "outputs": []
    },
    {
      "cell_type": "code",
      "metadata": {
        "id": "UHsZAmjaGH41"
      },
      "source": [
        "# Using Loop\n",
        "\n",
        "fact = int(input(\"Enter your number  : \"))\n",
        "Result = 1\n",
        "for i in range(2,fact+1):\n",
        "  Result *= i\n",
        "print(Result) \n",
        "\n",
        "\n"
      ],
      "execution_count": null,
      "outputs": []
    },
    {
      "cell_type": "code",
      "metadata": {
        "id": "On4I9zpMGYTJ"
      },
      "source": [
        "# Using Function\n",
        "# Best Example for RECURSION Function  \n",
        "\n",
        "# RECURSION Function called by itself\n",
        "\n",
        "def fact(factnumber):\n",
        "  if factnumber ==0:\n",
        "      return 1\n",
        "  return factnumber * fact(factnumber -1)\n",
        "\n",
        "print(fact(15))\n",
        "\n",
        "\n"
      ],
      "execution_count": null,
      "outputs": []
    },
    {
      "cell_type": "markdown",
      "metadata": {
        "id": "aujbxPqozDb-"
      },
      "source": [
        "\n",
        "\n",
        "------------\n",
        "\n",
        "\n",
        "\n",
        "\n",
        "\n",
        "------------\n",
        "\n"
      ]
    },
    {
      "cell_type": "markdown",
      "metadata": {
        "id": "qezwGOhit_HF"
      },
      "source": [
        "#Day 3 \n",
        "\n",
        "**With a given integer number n, write a program to generate a dictionary that contains (i, i*i) such that is an integral number between 1 and n (both included). and then the program should print the dictionary.**\n",
        "\n",
        "\n",
        "```\n",
        "Suppose the following input is supplied to the program:\n",
        "8\n",
        "Then, the output should be:\n",
        "{1: 1, 2: 4, 3: 9, 4: 16, 5: 25, 6: 36, 7: 49, 8: 64}\n",
        "```\n",
        "\n"
      ]
    },
    {
      "cell_type": "code",
      "metadata": {
        "id": "-PeAEmrYKbFu"
      },
      "source": [
        "# Dictionary = {\"key\":\"value\"}  <<<  dict() is Object   >>>\n",
        "# Dict={}\n",
        "Dict=dict()\n",
        "Num = int(input(\" Enter the Value\"))\n",
        "i=1\n",
        "while(i<Num+1):\n",
        "  Dict[i] = i*i\n",
        "  i+=1\n",
        "  # How's loop Running\n",
        "  print(Dict)\n",
        "\n",
        "\n"
      ],
      "execution_count": null,
      "outputs": []
    },
    {
      "cell_type": "code",
      "metadata": {
        "id": "ZVgk3OWCNMn0"
      },
      "source": [
        "# Using While loop\n",
        "D = dict()\n",
        "n=int(input(\"Enter your number\"))\n",
        "i=1\n",
        "while (i<=n):\n",
        "  D[i]=i*i\n",
        "  i+=1\n",
        "print(D)\n"
      ],
      "execution_count": null,
      "outputs": []
    },
    {
      "cell_type": "code",
      "metadata": {
        "id": "vD1A6iz6N6ZB"
      },
      "source": [
        "\n",
        "# Using For Loop\n",
        "Dic = {}\n",
        "n - int(input(\"Enter the value\"))\n",
        "for i in range(1,n+1):\n",
        "  Dic[i]=i*i\n",
        "print(Dic)"
      ],
      "execution_count": null,
      "outputs": []
    },
    {
      "cell_type": "markdown",
      "metadata": {
        "id": "UkfPdlodOsrb"
      },
      "source": [
        "\n",
        "\n",
        "------------\n",
        "\n",
        "\n",
        "\n",
        "\n",
        "\n",
        "------------\n",
        "\n"
      ]
    },
    {
      "cell_type": "markdown",
      "metadata": {
        "id": "_jMhqz947Vrs"
      },
      "source": [
        "# Day 4\n",
        "**Define a class which has at least two methods:**\n",
        "* **getString: to get a string from console input**\n",
        "* **printString: to print the string in upper case.**\n",
        "\n",
        "**Also please include simple test function to test the class methods.**\n",
        "```\n",
        "Hints:\n",
        "Use __init__ method to construct some parameters\n",
        "```\n"
      ]
    },
    {
      "cell_type": "code",
      "metadata": {
        "id": "VvlqLeE7O_2A"
      },
      "source": [
        "# Function is also known as Methods in OOPS\n",
        "class GetPrint():\n",
        "  def __init__(self):#Construct\n",
        "    print(\"Like Default Construct or Initizes\")\n",
        "    self.name=\"\"\n",
        "\n",
        "  def getString(self):\n",
        "    self.name=input(\"Enter Your Name : \")\n",
        "  def printString(self):\n",
        "    print(f\"Your Name is {self.name.upper()} , I Love your name\")\n",
        "\n",
        "# Create Class Object\n",
        "Obj = GetPrint()\n",
        "Obj.getString()\n",
        "Obj.printString()\n"
      ],
      "execution_count": null,
      "outputs": []
    },
    {
      "cell_type": "markdown",
      "metadata": {
        "id": "B-ybESlDO-kK"
      },
      "source": [
        "\n",
        "\n",
        "------------\n",
        "\n",
        "\n",
        "\n",
        "\n",
        "\n",
        "------------\n",
        "\n"
      ]
    },
    {
      "cell_type": "code",
      "metadata": {
        "id": "oQaWKS8rO_uK"
      },
      "source": [
        ""
      ],
      "execution_count": null,
      "outputs": []
    },
    {
      "cell_type": "markdown",
      "metadata": {
        "id": "HNu2U9Ha1pwE"
      },
      "source": [
        "#Day 5\n",
        "**Write a program that accepts a sequence of whitespace separated words as input and prints the words after removing all duplicate words and sorting them alphanumerically.\n",
        "S**\n",
        "\n",
        "---\n",
        "\n",
        "```\n",
        "suppose the following input is supplied to the program:\n",
        "hello world and practice makes perfect and hello world again\n",
        "Then, the output should be:\n",
        "again and hello makes perfect practice world \n",
        "```\n",
        "\n",
        "\n",
        "\n"
      ]
    },
    {
      "cell_type": "markdown",
      "metadata": {
        "id": "Nv38fyAzUDFO"
      },
      "source": [
        "\n",
        "\n",
        "------------\n",
        "\n",
        "\n",
        "\n",
        "\n",
        "\n",
        "------------\n",
        "\n"
      ]
    },
    {
      "cell_type": "code",
      "metadata": {
        "id": "RVWGLQrHSJm3"
      },
      "source": [
        "S = input(\"Enter the String : \")\n",
        "L = list(S.split(\" \"))\n",
        "print(L)\n",
        "\n",
        "L = set(L)\n",
        "print(L)\n",
        "L = list(L)\n",
        "print(L)\n",
        "L = sorted(L)\n",
        "print(L)\n",
        "print(\" \".join(L))\n"
      ],
      "execution_count": null,
      "outputs": []
    },
    {
      "cell_type": "code",
      "metadata": {
        "id": "tjzhPQHqU6Jh"
      },
      "source": [
        "US = input(\"Enter your String for removing all duplicate words \")\n",
        "List = list(US.split(\" \"))\n",
        "Set = set(List)\n",
        "ConList =list(Set)\n",
        "Sort=sorted(ConList)\n",
        "print(\" \".join(Sort))\n"
      ],
      "execution_count": null,
      "outputs": []
    },
    {
      "cell_type": "markdown",
      "metadata": {
        "id": "q2cVib1mSIpm"
      },
      "source": [
        "\n",
        "\n",
        "------------\n",
        "\n",
        "\n",
        "\n",
        "\n",
        "\n",
        "------------\n",
        "\n"
      ]
    },
    {
      "cell_type": "markdown",
      "metadata": {
        "id": "dNePy5spVL9j"
      },
      "source": [
        "#Day 6\n",
        "**Write a program which accepts a sequence of comma separated 4 digit binary numbers as its input and then check whether they are divisible by 5 or not. The numbers that are divisible by 5 are to be printed in a comma separated sequence**\n",
        "\n",
        "---\n",
        "\n",
        "```\n",
        "Example:\n",
        "0100,0011,1010,1001\n",
        "Then the output should be:\n",
        "1010\n",
        "```\n",
        "\n",
        "\n"
      ]
    },
    {
      "cell_type": "code",
      "metadata": {
        "id": "h9zRX9NZXrLB"
      },
      "source": [
        "Map=map(str,input(\"Enter the Binary Values \").split(\",\"))\n",
        "print(*Map,type(Map))\n",
        "\n",
        "List = list(map(str,input(\"Enter the Binary Values \").split(\",\")))\n",
        "print(List)\n",
        "temp=list()\n",
        "for i in List:\n",
        "\n",
        "  #Binary to Decimal , int Covert Two Base \n",
        "  if (int(i,2)%5==0):\n",
        "    temp.append(i)\n",
        "print(\",\".join(temp))"
      ],
      "execution_count": null,
      "outputs": []
    },
    {
      "cell_type": "markdown",
      "metadata": {
        "id": "5SK6swOGXpsW"
      },
      "source": [
        "\n",
        "\n",
        "------------\n",
        "\n",
        "\n",
        "\n",
        "\n",
        "\n",
        "------------\n",
        "\n"
      ]
    },
    {
      "cell_type": "markdown",
      "metadata": {
        "id": "xO8OV0ifncX3"
      },
      "source": [
        "#Day 7\n",
        "\n",
        "**Write a program, which will find all such numbers between 1000 and 3000 (both included) such that each digit of the number is an even number.\n",
        "The numbers obtained should be printed in a comma-separated sequence on a single line**"
      ]
    },
    {
      "cell_type": "code",
      "metadata": {
        "id": "H61YfgBfbxsb"
      },
      "source": [
        "List=[]\n",
        "for i in range(1000,3001):\n",
        "  temp=str(i)  # Convert to string for access each digit\n",
        "  if (int(temp[0])%2==0 and int(temp[1])%2==0 and int(temp[2])%2==0 and int(temp[3])%2==0):\n",
        "    List.append(temp) # String only Append\n",
        "print(\",\".join(List))"
      ],
      "execution_count": null,
      "outputs": []
    },
    {
      "cell_type": "code",
      "metadata": {
        "id": "0mRKMSNkfKDz"
      },
      "source": [
        "# Same Problem Extra find How many numbers in that condition\n",
        "\n",
        "LisT=[]\n",
        "Count=0\n",
        "for i in  range(1000,3001):\n",
        "  temp=str(i)\n",
        "  if (int(temp[0])%2==0 and int(temp[1])%2==0 and int(temp[2])%2==0 and int(temp[3])%2==0):\n",
        "    Count+=1\n",
        "    LisT.append(temp)\n",
        "print(LisT)\n",
        "print(Count)\n"
      ],
      "execution_count": null,
      "outputs": []
    },
    {
      "cell_type": "markdown",
      "metadata": {
        "id": "ARuoGqLsg7FG"
      },
      "source": [
        "\n",
        "\n",
        "------------\n",
        "\n",
        "\n",
        "\n",
        "\n",
        "\n",
        "------------\n",
        "\n"
      ]
    },
    {
      "cell_type": "markdown",
      "metadata": {
        "id": "bfBFJSw0jEZI"
      },
      "source": [
        "#Day 8\n",
        "**Write a program that accepts a sentence and calculate the number of letters and digits.**\n",
        "\n",
        "\n",
        "\n",
        "```\n",
        "Suppose the following input is supplied to the program:\n",
        "hello world! 123\n",
        "Then, the output should be:\n",
        "LETTERS 10\n",
        "DIGITS 3\n",
        "```\n",
        "\n"
      ]
    },
    {
      "cell_type": "code",
      "metadata": {
        "id": "FxBCjNCbiMD6"
      },
      "source": [
        "# Using in-bulid function isdigit and isalpha\n",
        "U = input (\" Enter the word \")\n",
        "Li=list(U) # For Seprate each letter\n",
        "print(Li)\n",
        "digit=0\n",
        "letter=0\n",
        "print(U[1])\n",
        "print(len(Li))\n",
        "for i in range(len(Li)):\n",
        "  if U[i].isdigit():\n",
        "    digit+=1\n",
        "  elif U[i].isalpha():\n",
        "    letter+=1\n",
        "\n",
        "print(f\"No of Digit is {digit}\")\n",
        "print(f\"No of Letter is {letter}\")"
      ],
      "execution_count": null,
      "outputs": []
    },
    {
      "cell_type": "markdown",
      "metadata": {
        "id": "l_NFNpGXZc0B"
      },
      "source": [
        "#Day 9\n",
        "**Use a list comprehension to store each odd number in a list. The list is input by a sequence of comma-separated numbers.**\n",
        "\n",
        "\n",
        "\n",
        "---\n",
        "\n",
        "\n",
        "\n",
        "\n",
        "```\n",
        "Suppose the following input is supplied to the program:\n",
        "1,2,3,4,5,6,7,8,9\n",
        "Then, the output should be:\n",
        "1,3,5,7,9\n",
        "```\n",
        "\n"
      ]
    },
    {
      "cell_type": "code",
      "metadata": {
        "id": "lhOQOH1d_9GK"
      },
      "source": [
        "#Odd Numbers\n",
        "\n",
        "Input = input(\"Enter your the value.. : \")\n",
        "\n",
        "\n",
        "List = [i for i in Input.split(\",\") if int(i)%2!=0 ]\n",
        "print(\",\".join(List))"
      ],
      "execution_count": null,
      "outputs": []
    },
    {
      "cell_type": "code",
      "metadata": {
        "id": "7KQfLxtLCCIk"
      },
      "source": [
        "# Even Numbers\n",
        "Inputs=input(\"Enter your number : \")\n",
        "Lists=[ i for i in Inputs.split(\",\") if int(i)%2==0 ]\n",
        "print(\",\".join(Lists))"
      ],
      "execution_count": null,
      "outputs": []
    },
    {
      "cell_type": "markdown",
      "metadata": {
        "id": "Mz45C_L2g7pj"
      },
      "source": [
        "\n",
        "\n",
        "------------\n",
        "\n",
        "\n",
        "\n",
        "\n",
        "\n",
        "------------\n",
        "\n"
      ]
    },
    {
      "cell_type": "markdown",
      "metadata": {
        "id": "bXMKuwmcgG3d"
      },
      "source": [
        "#Day 10\n",
        "**Write a program that computes the net amount of a bank account based a transaction log from console input.**\n",
        "\n",
        "\n",
        "---\n",
        "\n",
        "\n",
        "\n",
        "\n",
        "\n",
        "```\n",
        "The transaction log format is shown as following:\n",
        "D 100\n",
        "W 200\n",
        "D means deposit while W means withdrawal.**\n",
        "Suppose the following input is supplied to the program:\n",
        "D 300\n",
        "D 300\n",
        "W 200\n",
        "D 100\n",
        "Then, the output should be:\n",
        "500\n",
        "```\n"
      ]
    },
    {
      "cell_type": "code",
      "metadata": {
        "id": "FxBeYUJEDGJF"
      },
      "source": [
        "#Logical Thinking\n",
        "# Using while loop (Condition)\n",
        "Balance =0\n",
        "\n",
        "while True:\n",
        "  Input=input(\"Enter the Amount : \").upper()\n",
        "    # Empty string that means when enter the empty input block that time the program is stopped then return the balance amount\n",
        "  if Input ==\"\":\n",
        "    break\n",
        "   # Saprate the input mode and amount ..mode is like D or W  \n",
        "  Mode,Amount=Input.split(\" \")\n",
        "  \n",
        "  # Amount in String format so Converts into Int\n",
        "  if (Mode == \"D\"):\n",
        "     Balance+=int(Amount)\n",
        "  elif (Mode == \"W\"):\n",
        "      Balance-=int(Amount)\n",
        "  else:\n",
        "    print(\"Enter Correct Mode\")\n",
        "print(f\"Your net amount is {Balance}\")"
      ],
      "execution_count": null,
      "outputs": []
    },
    {
      "cell_type": "code",
      "metadata": {
        "id": "Q937SaaaP1w0"
      },
      "source": [
        "# USInput = User Input and USAmount = User Amount\n",
        "Check=['d','D','w',\"W\"]\n",
        "NetBalance = 0\n",
        "print(\"Enter your mode and amount with speace separate like( D amount or W amount ) :\")\n",
        "while True:  \n",
        "  USInput = input(\"\\n Enter your mode and amount :  \").upper()\n",
        "  if USInput ==\"\":\n",
        "    break\n",
        "  elif USInput in  Check:\n",
        "    continue\n",
        "  Mode,USAmount=USInput.split(\" \")\n",
        "  if (Mode==\"D\"):    \n",
        "    NetBalance +=int(USAmount)\n",
        "  elif (Mode==\"W\" ):\n",
        "    if (NetBalance >= int(USAmount)):      \n",
        "      NetBalance -=int(USAmount)\n",
        "    else:\n",
        "       print(\"\\n Insufficience Amount \")\n",
        "       break\n",
        "  else:\n",
        "        print(\"\\n Please Enter Vaild Mode and Amount\")\n",
        "print(f\" \\n Your Close Balance is {NetBalance} \")\n",
        "\n",
        "\n",
        "\n"
      ],
      "execution_count": null,
      "outputs": []
    },
    {
      "cell_type": "markdown",
      "metadata": {
        "id": "rual-9bhg8OO"
      },
      "source": [
        "\n",
        "\n",
        "------------\n",
        "\n",
        "\n",
        "\n",
        "\n",
        "\n",
        "------------\n",
        "\n"
      ]
    },
    {
      "cell_type": "markdown",
      "metadata": {
        "id": "v3Jng8BMxQ8T"
      },
      "source": [
        "#Day 11\n",
        "**A website requires the users to input username and password to register. Write a program to check the validity of password input by users.\n",
        "Following are the criteria for checking the password:**\n",
        "1. At least 1 letter between [a-z]\n",
        "2. At least 1 number between [0-9]\n",
        "1. At least 1 letter between [A-Z]\n",
        "3. At least 1 character from [$#@]\n",
        "4. Minimum length of transaction password: 6\n",
        "5. Maximum length of transaction password: 12\n",
        "Your program should accept a sequence of comma separated passwords and will check them according to the above criteria. Passwords that match the criteria are to be printed, each separated by a comma.\n",
        "\n",
        "\n",
        "```\n",
        "Example\n",
        "If the following passwords are given as input to the program:\n",
        "ABd1234@1,a F1#,2w3E*,2We3345\n",
        "Then, the output of the program should be:\n",
        "ABd1234@1\n",
        "```\n",
        "\n",
        "\n",
        "\n",
        "\n"
      ]
    },
    {
      "cell_type": "code",
      "metadata": {
        "id": "MkBs7tgunNfA",
        "colab": {
          "base_uri": "https://localhost:8080/"
        },
        "outputId": "74acd28c-1ad2-425d-ba98-c33e1e42e566"
      },
      "source": [
        "#Doubt Check what is splitline\n",
        "# Regular expression\n",
        "import re\n",
        "Result = list()\n",
        "Input=input(\"Enter the password : \")\n",
        "List=Input.split(\",\")\n",
        "for i in List:\n",
        "  # For Checking 5 and 6\n",
        "    \n",
        "  if len(i)<6 or len(i)>12:\n",
        "    continue\n",
        "  else:\n",
        "    pass\n",
        "\n",
        "  if not re.search(\"[a-z]\",i):\n",
        "    continue\n",
        "  elif not re.search(\"[0-9]\",i):\n",
        "    continue\n",
        "  elif not re.search(\"[A-Z]\",i):\n",
        "    continue\n",
        "  elif not re.search(\"[@#$]\",i):\n",
        "    continue\n",
        "  else:\n",
        "    pass \n",
        "  Result.append(i)\n",
        "    \n",
        "print(\"\".join(Result))\n",
        "  \n",
        "\n",
        "\n"
      ],
      "execution_count": null,
      "outputs": [
        {
          "output_type": "stream",
          "text": [
            "Enter the password : ABd1234@1,a F1#,2w3E*,2We3345\n",
            "ABd1234@1\n"
          ],
          "name": "stdout"
        }
      ]
    },
    {
      "cell_type": "markdown",
      "metadata": {
        "id": "-zJo_V6zg8ve"
      },
      "source": [
        "\n",
        "\n",
        "------------\n",
        "\n",
        "\n",
        "\n",
        "\n",
        "\n",
        "------------\n",
        "\n"
      ]
    },
    {
      "cell_type": "code",
      "metadata": {
        "id": "XL9qbweDnEuq"
      },
      "source": [
        ""
      ],
      "execution_count": null,
      "outputs": []
    },
    {
      "cell_type": "markdown",
      "metadata": {
        "id": "OExCCOma1oxx"
      },
      "source": [
        "#Day 12\n",
        "A robot moves in a plane starting from the original point (0,0). The robot can move toward UP, DOWN, LEFT and RIGHT with a given steps.\n",
        "\n",
        "\n",
        "```\n",
        "\n",
        "The trace of robot movement is shown as the following:\n",
        "UP 5\n",
        "DOWN 3\n",
        "LEFT 3\n",
        "RIGHT 2\n",
        "¡­\n",
        "The numbers after the direction are steps. Please write a program to compute the distance from current position after a sequence of movement and original point. If the distance is a float, then just print the nearest integer.\n",
        "```\n",
        "\n",
        "\n",
        "\n",
        "\n",
        "```\n",
        "Example:\n",
        "If the following tuples are given as input to the program:\n",
        "UP 5\n",
        "DOWN 3\n",
        "LEFT 3\n",
        "RIGHT 2\n",
        "Then, the output of the program should be:\n",
        "2\n",
        "```\n",
        "##Find-the-Distance-Between-Two-Points\n",
        "![alt text](https://www.wikihow.com/images/thumb/6/63/Find-the-Distance-Between-Two-Points-Step-6.jpg/aid2897060-v4-728px-Find-the-Distance-Between-Two-Points-Step-6.jpg.webp)"
      ]
    },
    {
      "cell_type": "markdown",
      "metadata": {
        "id": "RSfvVYnVg9nU"
      },
      "source": [
        "\n",
        "\n",
        "\n",
        "------------\n",
        "\n",
        "\n",
        "\n",
        "\n",
        "\n",
        "------------\n",
        "\n"
      ]
    },
    {
      "cell_type": "code",
      "metadata": {
        "id": "5sx0vJjMW3jL",
        "colab": {
          "base_uri": "https://localhost:8080/"
        },
        "outputId": "24bb0bee-a3bf-4e91-8d81-efb937a9151f"
      },
      "source": [
        "import math\n",
        "pos=[0,0]\n",
        "print(dir(math))\n",
        "while True:\n",
        "  Input = input(\"Enter your Move and Value : \").upper()\n",
        "  if Input == \"\":\n",
        "    break\n",
        "  Move,Value = Input.split(\" \")\n",
        "  if Move == \"UP\" or Move == \"U\":\n",
        "    pos[0]+=int(Value)\n",
        "  elif Move == \"Down\" or Move == \"D\":\n",
        "    pos[0]-=int(Value)\n",
        "  elif Move == \"LEFT\" or Move == \"L\":\n",
        "    pos[1]-=int(Value)\n",
        "  elif Move == \"RIGHT\" or Move == \"R\":\n",
        "    pos[1]+=int(Value)\n",
        "  else:\n",
        "      pass\n",
        "\n",
        "print(round(math.sqrt((pos[1]**2) + (pos[0]**2))))\n",
        "   "
      ],
      "execution_count": null,
      "outputs": [
        {
          "output_type": "stream",
          "text": [
            "['__doc__', '__loader__', '__name__', '__package__', '__spec__', 'acos', 'acosh', 'asin', 'asinh', 'atan', 'atan2', 'atanh', 'ceil', 'copysign', 'cos', 'cosh', 'degrees', 'e', 'erf', 'erfc', 'exp', 'expm1', 'fabs', 'factorial', 'floor', 'fmod', 'frexp', 'fsum', 'gamma', 'gcd', 'hypot', 'inf', 'isclose', 'isfinite', 'isinf', 'isnan', 'ldexp', 'lgamma', 'log', 'log10', 'log1p', 'log2', 'modf', 'nan', 'pi', 'pow', 'radians', 'sin', 'sinh', 'sqrt', 'tan', 'tanh', 'tau', 'trunc']\n",
            "Enter your Move and Value : u 5\n",
            "Enter your Move and Value : d 3\n",
            "Enter your Move and Value : l 2\n",
            "Enter your Move and Value : r 2\n",
            "Enter your Move and Value : \n",
            "2\n"
          ],
          "name": "stdout"
        }
      ]
    },
    {
      "cell_type": "markdown",
      "metadata": {
        "id": "MUI6avfnitNL"
      },
      "source": [
        "#Day 13\n",
        "**Write a program which can map() to make a list whose elements are square of elements in [1,2,3,4,5,6,7,8,9,10]**"
      ]
    },
    {
      "cell_type": "markdown",
      "metadata": {
        "id": "GtHr1p-z9epX"
      },
      "source": [
        "#Day 14\n",
        "\n",
        "**Write a program which can map() and filter() to make a list whose elements are square of even number in [1,2,3,4,5,6,7,8,9,10].**"
      ]
    },
    {
      "cell_type": "markdown",
      "metadata": {
        "id": "RKT_Wq9ER2jU"
      },
      "source": [
        "#Day 15\n",
        "\n",
        "**Write a function to compute 5/0 and use try/except to catch the exceptions**"
      ]
    },
    {
      "cell_type": "markdown",
      "metadata": {
        "id": "sPga1bU_g3Rq"
      },
      "source": [
        "#Day 16\n",
        "\n",
        "**Assuming that we have some email addresses in the \"username@companyname.com\" format, please write program to print the user name of a given email address. Both user names and company names are composed of letters only.**\n",
        "\n",
        "\n",
        "```\n",
        "Example:\n",
        "If the following email address is given as input to the program:\n",
        "\n",
        "john@google.com\n",
        "\n",
        "Then, the output of the program should be:\n",
        "\n",
        "john\n",
        "```\n",
        "\n"
      ]
    },
    {
      "cell_type": "markdown",
      "metadata": {
        "id": "4UlmkrRuSNER"
      },
      "source": [
        "#Day 17\n",
        "\n",
        "```\n",
        "The Fibonacci Sequence is computed based on the following formula:\n",
        "\n",
        "\n",
        "f(n)=0 if n=0\n",
        "f(n)=1 if n=1\n",
        "f(n)=f(n-1)+f(n-2) if n>1\n",
        "\n",
        "Please write a program to compute the value of f(n) with a given n input by console.\n",
        "\n",
        "Example:\n",
        "If the following n is given as input to the program:\n",
        "\n",
        "7\n",
        "\n",
        "Then, the output of the program should be:\n",
        "\n",
        "13\n",
        "```\n",
        "\n",
        "\n"
      ]
    },
    {
      "cell_type": "markdown",
      "metadata": {
        "id": "eTZ9HiB9Fl4K"
      },
      "source": [
        "#Day 18\n",
        "**Given a number z, determine whether the given number is Armstrong number or not**\n",
        "\n",
        "\n",
        "\n",
        "```\n",
        "Input : 153\n",
        "Output : 153 is an Armstrong number.\n",
        "\n",
        "Explanation\n",
        "1*1*1 + 5*5*5 + 3*3*3 = 153\n",
        "```\n",
        "\n"
      ]
    },
    {
      "cell_type": "markdown",
      "metadata": {
        "id": "p4H3omJXsQcD"
      },
      "source": [
        "#Day 19\n",
        "**Find the length of array**\n",
        "\n",
        "\n",
        "\n",
        "```\n",
        "Input : 1,2,3,4\n",
        "Output : 4\n",
        "\n",
        "\n",
        "```\n",
        "\n"
      ]
    },
    {
      "cell_type": "markdown",
      "metadata": {
        "id": "c0hthj9EGuvl"
      },
      "source": [
        "#Day 20\n",
        "**Python program to find second largest number in a list**\n",
        "\n",
        "\n",
        "```\n",
        "Input : 10,5,20,2,3\n",
        "Output : 10\n",
        "```\n",
        "\n"
      ]
    },
    {
      "cell_type": "markdown",
      "metadata": {
        "id": "gZADJfTYYVKR"
      },
      "source": [
        "#Day 21\n",
        "\n",
        "```\n",
        "Define a class which has at least two methods:\n",
        "getString: to get a string from console input\n",
        "printString: to print the string in upper case.\n",
        "Also please include simple test function to test the class methods\n",
        "```\n"
      ]
    },
    {
      "cell_type": "markdown",
      "metadata": {
        "id": "AT2dFyKtcK49"
      },
      "source": [
        "#Day 22\n",
        "\n",
        "\n",
        "\n",
        "```\n",
        "Count the Number of matching characters in a pair of string\n",
        "Given a pair of non empty strings. Count the number of matching characters in those strings (consider the single count for the character which have duplicates in the strings)\n",
        "\n",
        "\n",
        "Input : str1 = 'abcbc'\n",
        "        str2 = 'cda'\n",
        "Output : 2 \n",
        "(i.e. matching characters :- a,c)\n",
        "```\n",
        "\n",
        "\n"
      ]
    },
    {
      "cell_type": "markdown",
      "metadata": {
        "id": "rLh0ZuWp8yQJ"
      },
      "source": [
        "#Day 23\n",
        "\n",
        "**Find length of a string in python**"
      ]
    },
    {
      "cell_type": "markdown",
      "metadata": {
        "id": "lN8SRpoaIn5T"
      },
      "source": [
        "#Day 24\n",
        "\n",
        "**Remove Duplicates Function Without using set()**"
      ]
    },
    {
      "cell_type": "markdown",
      "metadata": {
        "id": "yS-J_C4M8OEp"
      },
      "source": [
        "#Day 25\n",
        "\n",
        "**Find Whether a given number is Positive or Negative**"
      ]
    },
    {
      "cell_type": "markdown",
      "metadata": {
        "id": "BZSSLt3IJ09R"
      },
      "source": [
        "#Day 26\n",
        "**Find sum of Digits of a Number**\n",
        "\n",
        "\n",
        "\n",
        "```\n",
        "input : 120\n",
        "output : 3\n",
        "```\n",
        "\n"
      ]
    },
    {
      "cell_type": "markdown",
      "metadata": {
        "id": "_gyjiMB3QNTg"
      },
      "source": [
        "#Day 27\n",
        "\n",
        "**Find the reverse of given integer**"
      ]
    },
    {
      "cell_type": "markdown",
      "metadata": {
        "id": "dzohQz4pb6vW"
      },
      "source": [
        "#Day 28\n",
        "\n",
        "**Find number is strong number or not!**\n",
        "\n",
        "\n",
        "\n",
        "```\n",
        "Input : 145\n",
        "Output : Strong Number\n",
        "\n",
        "Explanation:\n",
        "1!+4!+5!=145\n",
        "```\n",
        "\n"
      ]
    },
    {
      "cell_type": "markdown",
      "metadata": {
        "id": "wgzFxvRH5znq"
      },
      "source": [
        "#Day 29\n",
        "**Count the number of vowels in a string**\n",
        "\n",
        "\n",
        "\n",
        "```\n",
        "Input : Techsiddhar\n",
        "Output : 3 \n",
        "```\n",
        "\n"
      ]
    },
    {
      "cell_type": "markdown",
      "metadata": {
        "id": "V6Sr6n_LfiXz"
      },
      "source": [
        "#Day 30\n",
        "\n",
        "**Check if two string are Anagram or Not**\n",
        "\n",
        "\n",
        "\n",
        "```\n",
        "Input : listen\n",
        "        silent\n",
        "\n",
        "output : Anagram String\n",
        "```\n",
        "\n"
      ]
    },
    {
      "cell_type": "markdown",
      "metadata": {
        "id": "R09OJm3TrBjf"
      },
      "source": [
        "#Day 31\n",
        "**How many letter remove to make a string Anagram**\n",
        "\n",
        "\n",
        "\n",
        "```\n",
        "Input : sky\n",
        "        fly\n",
        "      \n",
        "Output : 4\n",
        "```\n",
        "\n"
      ]
    },
    {
      "cell_type": "markdown",
      "metadata": {
        "id": "PCMkGGkO8vAK"
      },
      "source": [
        "#Day 32\n",
        "**Python program to swap two elements in a list**\n",
        "\n",
        "\n",
        "\n",
        "```\n",
        "Input : Enter the list = 13, 35, 22, 10\n",
        "        pos1 = 1\n",
        "        pos2 = 3\n",
        "\n",
        "Output : [22, 35, 13, 10]\n",
        "```\n",
        "\n"
      ]
    },
    {
      "cell_type": "markdown",
      "metadata": {
        "id": "uPit7TY8Q0LA"
      },
      "source": [
        "#Day 33\n",
        "\n",
        "**Common Divisors of Two Numbers**\n",
        "\n",
        "\n",
        "\n",
        "```\n",
        "Input : a = 10\n",
        "        b = 30\n",
        "\n",
        "Output: 4\n",
        "\n",
        "Explain : common divisor are 1,2,5,10\n",
        "```\n",
        "\n"
      ]
    },
    {
      "cell_type": "markdown",
      "metadata": {
        "id": "F9_BZvxW2XGo"
      },
      "source": [
        "#Day 34\n",
        "**Difference between sums of odd and even digits**\n",
        "\n",
        "\n",
        "```\n",
        "Input : 1212112\n",
        "Output : Yes\n",
        "Explanation:-\n",
        "the odd position element is 2+2+1=5\n",
        "the even position element is 1+1+1+2=5\n",
        "the difference is 5-5=0.so print yes.\n",
        "\n",
        "Input :12345\n",
        "Output : No\n",
        "Explanation:-\n",
        "the odd position element is 1+3+5=9\n",
        "the even position element is 2+4=6\n",
        "the difference is 9-6=3 not  equal\n",
        "to zero. So print no.\n",
        "\n",
        "```\n",
        "\n",
        "\n"
      ]
    },
    {
      "cell_type": "markdown",
      "metadata": {
        "id": "tRo2x2OlpAN9"
      },
      "source": [
        "#Day 35\n",
        "**Average of Cubes of first N natural numbers**\n",
        "\n",
        "\n",
        "```\n",
        "Input: N = 2\n",
        "Output: 4.5\n",
        "Explanation:\n",
        "For integer N = 2,\n",
        "We hvae ( 13 + 23 ) = 1 + 8 = 9\n",
        "average = 9 / 2 that is 4.5\n",
        "```\n",
        "\n"
      ]
    },
    {
      "cell_type": "markdown",
      "metadata": {
        "id": "a1tR1Wss4dCX"
      },
      "source": [
        "#Day 36\n",
        "\n",
        "**Program for GCD of two numbers**\n",
        "\n",
        "\n",
        "\n",
        "```\n",
        "Input  : 2,4\n",
        "\n",
        "Output : 2\n",
        "```\n",
        "\n"
      ]
    },
    {
      "cell_type": "markdown",
      "metadata": {
        "id": "BhKO5CKn2dCW"
      },
      "source": [
        "#Day 37\n",
        "**Check if binary representation is palindrome**\n",
        "\n",
        "\n",
        "```\n",
        "Input : n = 9\n",
        "Output : True\n",
        "Binary representation of n=9 is 1001 which \n",
        "is palindrome as well.\n",
        "```\n",
        "\n"
      ]
    },
    {
      "cell_type": "markdown",
      "metadata": {
        "id": "XzHAcBLYL58Y"
      },
      "source": [
        "#Day 38\n",
        "\n",
        "**Find pair with given sum in an array**\n",
        "\n",
        "\n",
        "\n",
        "```\n",
        "Given an unsorted array of integers, find a pair with given sum in it.\n",
        "Input:arr = [8, 7, 2, 5, 3, 1]\n",
        "      sum = 10\n",
        "Output:\n",
        "Pair found at index 0 and 2 (8 + 2)\n",
        "  or\n",
        "Pair found at index 1 and 4 (7 + 3)\n",
        "```\n",
        "\n"
      ]
    },
    {
      "cell_type": "markdown",
      "metadata": {
        "id": "DTewYGpSBVwb"
      },
      "source": [
        "#Day 39\n",
        "\n",
        "**Move all zeros present in an array to the end**\n",
        "\n",
        "\n",
        "\n",
        "```\n",
        "\n",
        "Input:  { 5, 0, 8, 2, 3, 0, 4, 0, 1 }\n",
        "\n",
        "Output: { 5, 8, 2, 3, 4, 1, 0, 0, 0 }\n",
        "```\n",
        "\n"
      ]
    },
    {
      "cell_type": "markdown",
      "metadata": {
        "id": "5d9Qn4HtsUDD"
      },
      "source": [
        "#Day 40\n",
        "\n",
        "**Shuffle a given array of elements**\n",
        "\n",
        "\n",
        "\n",
        "```\n",
        "Input:  [1, 2, 3, 4, 5, 6]\n",
        "\n",
        "Output: [6, 2, 3, 1, 4, 5]\n",
        "```\n",
        "\n"
      ]
    },
    {
      "cell_type": "markdown",
      "metadata": {
        "id": "0kl16LIe8Lyl"
      },
      "source": [
        "#Day 41\n",
        "**find mirror characters in a string**\n",
        "\n",
        "\n",
        "\n",
        "```\n",
        "Input : N = 3\n",
        "        paradox\n",
        "Output : paizwlc\n",
        "\n",
        "We mirror characters from position 3 to end\n",
        "```\n",
        "\n"
      ]
    },
    {
      "cell_type": "markdown",
      "metadata": {
        "id": "g-C362Dz4i-t"
      },
      "source": [
        "#Day 42\n",
        "**Convert list to Python array**"
      ]
    },
    {
      "cell_type": "markdown",
      "metadata": {
        "id": "e_biC09rMt8b"
      },
      "source": [
        "#Day 43\n",
        "\n",
        "**Define a class named Rectangle which can be constructed by a length and width. The Rectangle class has a method which can compute the area.**\n",
        "\n"
      ]
    },
    {
      "cell_type": "markdown",
      "metadata": {
        "id": "OfFrOZ4VVJfV"
      },
      "source": [
        "#Day 44\n",
        "\n",
        "**Find a Maximum Sum Subarray (Kadane's Algorithm)**\n",
        "\n",
        "\n",
        "\n",
        "\n",
        "```\n",
        "Input : -2, -3, 4, -1, -2, 1, 5, -3\n",
        "\n",
        "Output : 7\n",
        "```\n",
        "\n"
      ]
    },
    {
      "cell_type": "markdown",
      "metadata": {
        "id": "6rsH_opKWBTE"
      },
      "source": [
        "#Day 45\n",
        "\n",
        "**Check if an Array is Formed Consecutive Integers**\n",
        "\n",
        "\n",
        "\n",
        "\n",
        "```\n",
        "Input : {-1,5,4,2,1,3,0}\n",
        "\n",
        "Output : Array contains Consecutive Integers\n",
        "```\n",
        "\n"
      ]
    },
    {
      "cell_type": "markdown",
      "metadata": {
        "id": "jvvvZWF2uVuO"
      },
      "source": [
        "#Day 46\n",
        "**In-place merge two sorted arrays**\n",
        "\n",
        "Given two sorted arrays X[] and Y[] of size m and n each, merge elements of X[]  with elements of array Y[]  by maintaining the sorted order. i.e. fill X[]  with first m smallest elements and fill Y[]  with remaining elements.\n",
        "\n",
        "\n",
        "\n",
        "```\n",
        "Input:\n",
        "X[] = { 1, 4, 7, 8, 10 }\n",
        "Y[] = { 2, 3, 9 }\n",
        "\n",
        "Output: \n",
        "X[] = { 1, 2, 3, 4, 7 }\n",
        "Y[] = { 8, 9, 10 }\n",
        "```\n",
        "\n"
      ]
    },
    {
      "cell_type": "markdown",
      "metadata": {
        "id": "oFrZF1yeoh-c"
      },
      "source": [
        "#Day 47\n",
        "**Find missing term in Sequence in Logarithmic Time O(log(n))**\n",
        "\n",
        "\n",
        "\n",
        "\n",
        "```\n",
        "Input : [5,7,9,11,15]\n",
        "\n",
        "Output: 13\n",
        "```\n",
        "\n"
      ]
    },
    {
      "cell_type": "markdown",
      "metadata": {
        "id": "rj_FkRR3BaI3"
      },
      "source": [
        "#Day 48\n",
        "\n",
        "**String slicing in Python to rotate a string**\n",
        "\n",
        "\n",
        "\n",
        "```\n",
        "Input : s = \"qwertyu\" \n",
        "        d = 2\n",
        "Output : Left rotation : \"ertyuqw\"\n",
        "         Right rotation : \"yuqwert\"\n",
        "```\n",
        "\n"
      ]
    },
    {
      "cell_type": "markdown",
      "metadata": {
        "id": "ARpd3p9_YAzi"
      },
      "source": [
        "#Day 49\n",
        "\n",
        "**Count dictionaries in a list in Python**\n",
        "\n",
        "\n",
        "```\n",
        "Input : l = [10, {‘ok’ : 1}, {‘ok1’ : 2, ‘ok2’ : 3}, 20]\n",
        "\n",
        "Output : 2\n",
        "\n",
        "```\n",
        "\n"
      ]
    },
    {
      "cell_type": "markdown",
      "metadata": {
        "id": "_CMRudmEJJ6s"
      },
      "source": [
        "#Day 50\n",
        "\n",
        "**Rod Cutting Problem**\n",
        "\n",
        "Given a rod of length n and list of prices of rod of length i where 1 <= i <= n, find the optimal way to cut rod into smaller rods in order to maximize profit.\n",
        "\n",
        "\n",
        "\n",
        "\n",
        "```\n",
        "Input : length[] = [1, 2, 3, 4, 5, 6, 7, 8]\n",
        "\n",
        "        price [] = [1, 5, 8, 9, 10, 17, 17, 20]\n",
        "\n",
        "        n=4\n",
        "\n",
        "Output : profit is 10\n",
        "```\n",
        "\n"
      ]
    },
    {
      "cell_type": "markdown",
      "metadata": {
        "id": "1MFcBtlH3pBC"
      },
      "source": [
        "#Day 51\n",
        "\n",
        "**Sort elements by frequency**\n",
        "Print the elements of an array in the decreasing frequency if 2 numbers have same frequency then print the one which came first.\n",
        "\n",
        "\n",
        "```\n",
        "Input:  arr = {2, 5, 2, 8, 5, 6, 8, 8}\n",
        "Output: arr = {8, 8, 8, 2, 2, 5, 5, 6}\n",
        "```\n",
        "\n"
      ]
    },
    {
      "cell_type": "markdown",
      "metadata": {
        "id": "kWfLoOeeu2dJ"
      },
      "source": [
        "#Day 52\n",
        "\n",
        "**Count Inversions in an array**\n",
        "\n",
        "\n",
        "two elements a[i] and a[j] form an inversion if a[i] > a[j] and i < j\n",
        "\n",
        "\n",
        "\n",
        "```\n",
        "Input: arr = {8, 4, 2, 1}\n",
        "Output: 6\n",
        "\n",
        "Explanation: Given array has six inversions:\n",
        "(8,4), (4,2),(8,2), (8,1), (4,1), (2,1)\n",
        "```\n",
        "\n"
      ]
    },
    {
      "cell_type": "markdown",
      "metadata": {
        "id": "goMF15tmp8Dm"
      },
      "source": [
        "#Day 53\n",
        "\n",
        "**Find minimum difference between any two elements**\n",
        "\n",
        "\n",
        "```\n",
        "Input  : [1, 19, -4, 35, 38, 25, 120];\n",
        "Output : 3\n",
        "\n",
        "Minimum difference is between 35 and 38\n",
        " \n",
        "\n",
        "```\n",
        "\n",
        "\n"
      ]
    },
    {
      "cell_type": "markdown",
      "metadata": {
        "id": "KD3hw4ipV1VG"
      },
      "source": [
        "#Day 54\n",
        "**Chocolate Distribution Problem**\n",
        "\n",
        "Given an array of n integers where each value represents number of chocolates in a packet. Each packet can have variable number of chocolates. There are m students, the task is to distribute chocolate packets such that:\n",
        "\n",
        "Each student gets one packet.\n",
        "\n",
        "The difference between the number of chocolates in packet with maximum chocolates and packet with minimum chocolates given to the students is minimum.\n",
        "\n",
        "```\n",
        "Input : arr= {3, 4, 1, 9, 56, 7, 9, 12}\n",
        "m = 5\n",
        "Output: Minimum Difference is 6\n",
        "The set goes like 3,4,7,9,9 and the output\n",
        "is 9-3 = 6\n",
        "```\n",
        "\n"
      ]
    },
    {
      "cell_type": "markdown",
      "metadata": {
        "id": "pJKjeZHtswPc"
      },
      "source": [
        "#Day 55\n",
        "**Sort even-placed elements in increasing and odd-placed in decreasing order**\n",
        "\n",
        "We are given an array of n distinct numbers. The task is to sort all even-placed numbers in increasing and odd-placed numbers in decreasing order. The modified array should contain all sorted even-placed numbers followed by reverse sorted odd-placed numbers\n",
        "\n",
        "\n",
        "\n",
        "```\n",
        "Input: arr= {3, 1, 2, 4, 5, 9, 13, 14, 12}\n",
        "\n",
        "Output: {2, 3, 5, 12, 13, 14, 9, 4, 1}\n",
        "\n",
        "Even-place elements : 3, 2, 5, 13, 12\n",
        "Odd-place elements : 1, 4, 9, 14\n",
        "Even-place elements in increasing order : \n",
        "2, 3, 5, 12, 13\n",
        "Odd-Place elements in decreasing order : \n",
        "14, 9, 4, 1\n",
        "```\n",
        "\n"
      ]
    },
    {
      "cell_type": "markdown",
      "metadata": {
        "id": "vTL3WZp7zoPa"
      },
      "source": [
        "#Day 56\n",
        "**Sorting Big Integers**\n",
        "\n",
        "Given a array of n positive integers where each integer can have digits upto 106, print the array elements in ascending order\n",
        "\n",
        "\n",
        "\n",
        "```\n",
        "Input: arr= [3643641264874311, 451234654453211101231, 4510122010112121012121]\n",
        "Output: 3641264874311 451234654453211101231 4510122010112121012121\n",
        "```\n",
        "\n"
      ]
    },
    {
      "cell_type": "markdown",
      "metadata": {
        "id": "NrEmnleKz9lI"
      },
      "source": [
        "#Day 57\n",
        "**Find Surpasser Count of each element in array**\n",
        "A surpasser of an element of an array is a greater element to its right, therefore x[j] is a surpasser of x[i] if i < j and x[i] < x[j]. The surpasser count of an element is the number of surpassers. Given an array of distinct integers, for each element of the array find its surpasser count i.e. count the number of elements to the right that are greater than that element.\n",
        "\n",
        "\n",
        "\n",
        "```\n",
        "Input:  [2, 7, 5, 3, 0, 8, 1]\n",
        "Output: [4, 1, 1, 1, 2, 0, 0]\n",
        "```\n",
        "\n"
      ]
    },
    {
      "cell_type": "markdown",
      "metadata": {
        "id": "6JplnmS-iVj5"
      },
      "source": [
        "#Day 58\n",
        "**Sort an array in wave form**\n",
        "\n",
        "Given an unsorted array of integers, sort the array into a wave like array. An array ‘arr[0..n-1]’ is sorted in wave form if arr[0] >= arr[1] <= arr[2] >= arr[3] <= arr[4] >= …..\n",
        "\n",
        "\n",
        "\n",
        "```\n",
        " Input : a = {3, 6, 5, 10, 7, 20}\n",
        " Output: a = {6, 3, 10, 5, 20, 7} OR\n",
        "                 any other array that is in wave form\n",
        "```\n",
        "\n"
      ]
    },
    {
      "cell_type": "markdown",
      "metadata": {
        "id": "NWy0v8pdRfq_"
      },
      "source": [
        "#Day 59\n",
        "\n",
        "**Sort elements on the basis of number of factors**\n",
        "\n",
        "\n",
        "Given an array of positive integers. Sort the given array in decreasing order of number of factors of each element, i.e., element having the highest number of factors should be the first to be displayed and the number having least number of factors should be the last one. Two elements with equal number of factors should be in the same order as in the original array.\n",
        "\n",
        "\n",
        "\n",
        "```\n",
        "Input : {5, 11, 10, 20, 9, 16, 23}\n",
        "Output : 20 16 10 9 5 11 23\n",
        "Number of distinct factors:\n",
        "For 20 = 6, 16 = 5, 10 = 4, 9 = 3\n",
        "and for 5, 11, 23 = 2 (same number of factors\n",
        "therefore sorted in increasing order of index)\n",
        "```\n",
        "\n"
      ]
    },
    {
      "cell_type": "markdown",
      "metadata": {
        "id": "lby6Y6jhTKY2"
      },
      "source": [
        "#Day 60\n",
        "\n",
        "**Program to check if an array is sorted or not**\n",
        "\n",
        "Given an array of size n, write a program to check if it is sorted in ascending order or not. Equal values are allowed in array and two consecutive equal values are considered sorted.\n",
        "\n",
        "\n",
        "\n",
        "```\n",
        "Input : 20 21 45 89 89 90\n",
        "Output : Yes\n",
        "\n",
        "Input : 20 20 78 98 99 97\n",
        "Output : No\n",
        "```\n",
        "\n",
        "\n",
        "\n"
      ]
    },
    {
      "cell_type": "markdown",
      "metadata": {
        "id": "1OTs6uk5bTHq"
      },
      "source": [
        "#Day 61\n",
        "**Retain Numbers in String**\n",
        "\n",
        "we can have a problem in which we need to perform the removal of all the characters other than integers\n",
        "\n",
        "\n",
        "\n",
        "\n",
        "```\n",
        "Input : test_str = \"Hello1 world\"\n",
        "Output : 1\n",
        "```\n",
        "\n"
      ]
    },
    {
      "cell_type": "markdown",
      "metadata": {
        "id": "FofJ1sgifbgI"
      },
      "source": [
        "#Day 62\n",
        "**Group Similar Start and End character words**\n",
        "\n",
        "we can have problem in which we need to group all the words on basis of front and end characters.\n",
        "\n",
        "\n",
        "\n",
        "```\n",
        "The original string is : Techsiddhar is best and bright for programmers\n",
        "The grouped dictionary is : {'Tr': {'echsiddha'}, 'is': {''}, 'bt': {'es', 'righ'}, 'ad': {'n'}, 'fr': {'o'}, 'ps': {'rogrammer'}}\n",
        "```\n",
        "\n"
      ]
    },
    {
      "cell_type": "markdown",
      "metadata": {
        "id": "z57SJrnHESZi"
      },
      "source": [
        "#Day 63\n",
        "\n",
        "**Vowel indices in String**\n",
        "\n",
        "problem in which we need to extract indices of vowels in list\n",
        "\n",
        "\n",
        "\n",
        "```\n",
        "Input : Tech Siddhar\n",
        "\n",
        "Output : [1,6,10]\n",
        "```\n",
        "\n"
      ]
    },
    {
      "cell_type": "markdown",
      "metadata": {
        "id": "PQ_WahUBjO6u"
      },
      "source": [
        "#Day 64\n",
        "\n",
        "**Create Flat Lists Out Of Lists**\n",
        "\n",
        "To make a simple list out of a list of lists\n",
        "\n",
        "\n",
        "```\n",
        "Input : l= [[1,2],[3,4],[5,6]]\n",
        "\n",
        "Output : [1, 2, 3, 4, 5, 6]\n",
        "```\n",
        "\n",
        "\n"
      ]
    },
    {
      "cell_type": "markdown",
      "metadata": {
        "id": "tqeCEJ1DPbw3"
      },
      "source": [
        "#Day 65\n",
        "\n",
        "**Size of string in memory**\n",
        "\n",
        "we require to get the size of the string, i.e the length of it\n",
        "\n",
        "\n",
        "\n",
        "```\n",
        "Input : TechSiddhar\n",
        "\n",
        "Output : 60\n",
        "\n",
        "```\n",
        "\n"
      ]
    },
    {
      "cell_type": "markdown",
      "metadata": {
        "id": "I5dH86o2bFjb"
      },
      "source": [
        "#Day 66\n",
        "\n",
        "**Program for Check if all digits of a number divide it**\n",
        "\n",
        "Given a number n, find whether all digits of n divide it or not\n",
        "\n",
        "\n",
        "\n",
        "```\n",
        "Input : 122\n",
        "Output : Yes\n",
        "122 % 1 == 0, 122 % 2 == 0, and 122 % 2 == 0.\n",
        "\n",
        "Input : 123\n",
        "Output : No\n",
        "```\n",
        "\n"
      ]
    },
    {
      "cell_type": "markdown",
      "metadata": {
        "id": "VUpwmbE-RMMw"
      },
      "source": [
        "#Day 67\n",
        "\n",
        "**Add two number without using Add operator**\n",
        "\n",
        "\n",
        "\n",
        "```\n",
        "Input : 10 20\n",
        "\n",
        "Output : 30\n",
        "\n",
        "Binary value of 10 : 0101\n",
        "\n",
        "Binary value of 20 : 10100\n",
        "\n",
        "                     11110\n",
        "```\n",
        "\n"
      ]
    },
    {
      "cell_type": "markdown",
      "metadata": {
        "id": "oxKtowA1qkDR"
      },
      "source": [
        "#Day 68\n",
        "\n",
        "**Smallest of three integers without comparison operators**\n",
        "\n",
        "Write a program to find the smallest of three integers, without using any of the comparison operators.\n",
        "\n",
        "\n",
        "\n",
        "```\n",
        "Input : 10 20 30\n",
        "\n",
        "Output : 10\n",
        "```\n",
        "\n"
      ]
    },
    {
      "cell_type": "markdown",
      "metadata": {
        "id": "N-3ds280vBk7"
      },
      "source": [
        "#Day 69\n",
        "\n",
        "**Check if binary representations of two numbers are anagram**\n",
        "\n",
        "\n",
        "\n",
        "\n",
        "```\n",
        "Input : a = 8, b = 4 \n",
        "Output : Yes\n",
        "```\n",
        "\n"
      ]
    },
    {
      "cell_type": "markdown",
      "metadata": {
        "id": "CfEMzW3N-gAK"
      },
      "source": [
        "#Day 70\n",
        "\n",
        "**Remove duplicate values in dictionary**\n",
        "\n",
        "we need to perform the removal of all the duplicate values of dictionary, and we are not concerned if any key get removed in the process\n",
        "\n",
        "\n",
        "\n",
        "```\n",
        "Input : {\"tech\":20,\"is\":20,\"siddhar\":10,\"Youtube\":12,\"channel\":15}\n",
        "\n",
        "Output : {\"tech\":20,\"siddhar\":10,\"Youtube\":12,\"channel\":15}\n",
        "```\n",
        "\n"
      ]
    },
    {
      "cell_type": "markdown",
      "metadata": {
        "id": "hibQZiq7neAC"
      },
      "source": [
        "#Day 71\n",
        "\n",
        "**Check if two strings are Rotationally Equivalent**\n",
        "\n",
        "check if one string can be derived from other upon left or right rotation\n",
        "\n",
        "\n",
        "\n",
        "```\n",
        "Input : str1 = ‘siddhar’, str2 = ‘ddharsi’\n",
        "Output : Yes\n",
        "\n",
        "\n",
        "```\n",
        "\n"
      ]
    },
    {
      "cell_type": "markdown",
      "metadata": {
        "id": "RRPGnToKPR2y"
      },
      "source": [
        "#Day 72\n",
        "\n",
        "**Find Words with both alphabets and numbers**\n",
        "\n",
        "we can have problem in which we need to extract certain words with contain both numbers and alphabets\n",
        "\n",
        "\n",
        "\n",
        "```\n",
        "Input : Tech12 Sid11dhar i3s Bes1t progr88amming YouTub5e chan6nel i3n tamilnadu or w3orld\n",
        "\n",
        "Output : Tech12 Sid11dhar i3s Bes1t progr88amming YouTub5e chan6nel i3n w3orld\n",
        "\n",
        "```\n",
        "\n"
      ]
    },
    {
      "cell_type": "markdown",
      "metadata": {
        "id": "Ci5-Z4ZFtdXi"
      },
      "source": [
        "#Day 73\n",
        "\n",
        "**Subtract two list elements if element in first list is greater**\n",
        "\n",
        "Given two list, If element in first list in greater than element in second list, then subtract it, else return the element of first list only.\n",
        "\n",
        "\n",
        "\n",
        "\n",
        "```\n",
        "Input:\n",
        "l1 = [10, 20, 30, 40, 50, 60]\n",
        "l2 = [60, 50, 40, 30, 20, 10]\n",
        "\n",
        "Output:\n",
        "[10, 20, 30, 10, 30, 50]\n",
        "```\n",
        "\n"
      ]
    },
    {
      "cell_type": "markdown",
      "metadata": {
        "id": "Q1wxg4w_q1v3"
      },
      "source": [
        "#Day 74\n",
        "\n",
        "check if the given string is IPv4 or IPv6 or Invalid\n",
        "\n",
        "\n",
        "\n",
        "\n",
        "```\n",
        "Input : “192.168.0.1”\n",
        "Output : IPv4\n",
        "Explanation : It is a valid IPv4 address\n",
        "\n",
        "Input : “2001:0db8:85a3:0000:0000:8a2e:0370:7334”\n",
        "Output : IPv6\n",
        "Explanation : It is a valid IPv6 address\n",
        "\n",
        "Input : “255.32.555.5”\n",
        "Output : Invalid\n",
        "Explanation : It is an invalid IPv4 address as the 3rd octet value(i.e 555) is greater 255.\n",
        "```\n",
        "\n"
      ]
    },
    {
      "cell_type": "markdown",
      "metadata": {
        "id": "fiElfp4qE7qE"
      },
      "source": [
        "#Day 75\n",
        "\n",
        "**find the Strongest Neighbour**\n",
        "\n",
        "Given an array arr[] of N positive integers. The task is to find the maximum for every adjacent pair in the array.\n",
        "\n",
        "\n",
        "\n",
        "```\n",
        "Input: 1 2 2 3 4 5\n",
        "Output: 2 2 3 4 5\n",
        "\n",
        "Input: 5 5\n",
        "Output: 5\n",
        "```\n",
        "\n"
      ]
    },
    {
      "cell_type": "markdown",
      "metadata": {
        "id": "fk1K0NU24g3o"
      },
      "source": [
        "#Day 76\n",
        "\n",
        "**Intersection of two String**\n",
        "\n",
        "One of the string operations can be computing the intersection of two strings i.e, output the common values that appear in both the strings\n",
        "\n",
        "\n",
        "\n",
        "```\n",
        "Input  : str1=\"Techsiddhar\"\n",
        "         str2=\"YouTube Channel\"\n",
        "\n",
        "Output : Teha\n",
        "```\n",
        "\n"
      ]
    },
    {
      "cell_type": "markdown",
      "metadata": {
        "id": "acLuxNnUHn2L"
      },
      "source": [
        "#Day 77\n",
        "\n",
        "**Selective Key Values Summation**\n",
        "\n",
        "we can have a problem in which we desire to get summation of certain keys’ values in dictionary\n",
        "\n",
        "\n",
        "\n",
        "```\n",
        "Input : test_dict = {'tech' : 50, 'siddhar' : 50, 'youtube' : 7}\n",
        "        \n",
        "        key_list =['tech', 'siddhar']\n",
        "\n",
        "Output : 100\n",
        "\n",
        "```\n",
        "\n"
      ]
    },
    {
      "cell_type": "markdown",
      "metadata": {
        "id": "SSNSjoNM7piz"
      },
      "source": [
        "#Day 78\n",
        "\n",
        "**Filter Range Length Tuples**\n",
        "\n",
        "we might desire to filter records in such a way in which we need to discard records that do not contains exact number of elements required to constitute a record and lie in a range\n",
        "\n",
        "\n",
        "\n",
        "```\n",
        "Input  : (4, ), (2, 87), (10, 16, 19), (1,2,2,6,3,3)(1,5, 6, 8, 2), (1, 0)\n",
        "         start=2\n",
        "         end=3\n",
        "      \n",
        "Output : (2, 87), (10, 16, 19), (1, 0)\n",
        "```\n",
        "\n"
      ]
    },
    {
      "cell_type": "markdown",
      "metadata": {
        "id": "OmewjzRm9JZW"
      },
      "source": [
        "#Day 79\n",
        "\n",
        "**XOR operation**\n",
        "\n",
        "\n",
        "we can have a problem in which we may need to perform mathematical bitwise XOR operation\n",
        "\n",
        "\n",
        "\n",
        "```\n",
        "Input  : (10, 4, 6, 9)\n",
        "         (5, 2, 3, 3)\n",
        "\n",
        "Output : (15, 6, 5, 10)\n",
        "```\n",
        "\n",
        "\n",
        "\n",
        "\n",
        "![alt text](https://www.codespeedy.com/wp-content/uploads/2019/08/Screenshot-from-2019-08-04-12-01-49.png)"
      ]
    },
    {
      "cell_type": "markdown",
      "metadata": {
        "id": "uQ0ajM0R8mCD"
      },
      "source": [
        "#Day 80\n",
        "\n",
        "**Assign Reversed Values in Dictionary**\n",
        "\n",
        "Given a dictionary, assign each key, values after reverting the values of dictionary\n",
        "\n",
        "\n",
        "\n",
        "\n",
        "```\n",
        "Input : {1 : 4, 2 : 5, 3 : 6}\n",
        "\n",
        "Output : {1 : 6, 2 : 5, 3 : 4}\n",
        "```\n",
        "\n"
      ]
    },
    {
      "cell_type": "markdown",
      "metadata": {
        "id": "g1vznXNawJv8"
      },
      "source": [
        "#Day 81\n",
        "\n",
        "**Get next key in Dictionary**\n",
        "\n",
        "we can have problem in which we need to extract the next key in order of dictionary\n",
        "\n",
        "\n",
        "\n",
        "```\n",
        "Input  : {'techsiddhar': 1, 'youtube': 2, 'channel':3 }\n",
        "          key =\"youtube\"\n",
        "\n",
        "Output : channel\n",
        "```\n",
        "\n"
      ]
    },
    {
      "cell_type": "markdown",
      "metadata": {
        "id": "sEF9wDpazweE"
      },
      "source": [
        "#Day 82\n",
        "\n",
        "**Remove digits from Dictionary String Values List**\n",
        "\n",
        "\n",
        "Given list of dictionaries with string list values, remove all the numerics from all strings\n",
        "\n",
        "\n",
        "\n",
        "```\n",
        "Input : {‘tech’ : [“te3ch is prefix”, “siddhar i7s suffix”], ‘youtube’ : [“you7tube ch99annel ”, “Tamil la0nguage”]}\n",
        "\n",
        "\n",
        "Output : {‘tech’ : [“tech is prefix”, “siddhar is suffix”], ‘youtube’ : [“youtube channel ”, “Tamil language”]}\n",
        "```\n",
        "\n"
      ]
    },
    {
      "cell_type": "markdown",
      "metadata": {
        "id": "WmGlJPu3PIPm"
      },
      "source": [
        "#Day 83\n",
        "\n",
        "**We count 35 heads and 94 legs among the chickens and rabbits in a farm. How many rabbits and how many chickens do we have?**\n",
        "\n"
      ]
    },
    {
      "cell_type": "markdown",
      "metadata": {
        "id": "gqe7f7XVMAPO"
      },
      "source": [
        "#Day 84\n",
        "\n",
        "Define a class Person and its two child classes: Male and Female. All classes have a method \"getGender\" which can print \"Male\" for Male class and \"Female\" for Female class.\n"
      ]
    },
    {
      "cell_type": "markdown",
      "metadata": {
        "id": "aSvUTmW-e64n"
      },
      "source": [
        "#Day 85\n",
        "\n",
        "Please write Program without using if/else statements to verify that every number in the list [2,4,6,8] is even"
      ]
    },
    {
      "cell_type": "markdown",
      "metadata": {
        "id": "0ywBLG9Xo8Uq"
      },
      "source": [
        "#Day 86\n",
        "\n",
        "**Zipping two unequal length list in dictionary**\n",
        "\n",
        "Given two lists of possibly unequal lengths, the task is to zip two lists in dictionary such that the list with shorter length will repeat itself.\n",
        "\n",
        "\n",
        "\n",
        "```\n",
        "Input : ['a', 'b', 'c', 'd', 'e'] \n",
        "\n",
        "        [1, 2, 3] \n",
        "\n",
        "\n",
        "Output : {'a': 1, 'b': 2, 'c': 3, 'd': 1, 'e': 2}\n",
        "```\n",
        "\n"
      ]
    },
    {
      "cell_type": "markdown",
      "metadata": {
        "id": "qg_o7hXDtnNg"
      },
      "source": [
        "#Day 87\n",
        "\n",
        "**Intersect two dictionaries through keys**\n",
        "\n",
        "Given two dictionaries, the task is to find the intersection of these two dictionaries through keys\n",
        "\n",
        "\n",
        "```\n",
        "Input  : {‘vashu’: 5, ‘manjeet’: 10, ‘nikhil’: 1, ‘akshat’: 15}\n",
        "\n",
        "         {‘nikhil’: 1, ‘me’: 56, ‘akshat’: 15}\n",
        "\n",
        "Output : {‘nikhil’: 1, ‘akshat’: 15}\n",
        "```\n",
        "\n"
      ]
    },
    {
      "cell_type": "markdown",
      "metadata": {
        "id": "Vy6ohVEi_FN7"
      },
      "source": [
        "#Day 88\n",
        "\n",
        "**Please write a program to print the running time of execution of \"Tech Siddhar\" for 100 times**"
      ]
    },
    {
      "cell_type": "markdown",
      "metadata": {
        "id": "Onec1BAwYVpn"
      },
      "source": [
        "#Day 89\n",
        "\n",
        "**Given an array arr[] of N non-negative integers representing height of blocks at index i as Ai where the width of each block is 1. Compute how much water can be trapped in between blocks after raining. Structure is like below:**\n",
        "\n",
        "\n",
        "\n",
        "```\n",
        "| |\n",
        "|_|\n",
        "```\n",
        "\n",
        "\n",
        "\n",
        "\n",
        "**We can trap 2 units of water in the middle gap**\n",
        "\n",
        "\n",
        "**The first line of input contains an integer T denoting the number of test cases. The description of T test cases follows. Each test case contains an integer N denoting the size of the array, followed by N space separated numbers to be stored in array.**\n",
        "\n",
        "![watertrap.png](data:image/png;base64,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)\n",
        "\n",
        "```\n",
        "Input:\n",
        "2\n",
        "4\n",
        "7 4 0 9\n",
        "3\n",
        "6 9 9\n",
        "\n",
        "Output:\n",
        "10\n",
        "0\n",
        "```\n",
        "\n"
      ]
    },
    {
      "cell_type": "markdown",
      "metadata": {
        "id": "N82A4zk6KQX6"
      },
      "source": [
        "#Day 90\n",
        "\n",
        "**Given an array of positive integers. Your task is to find the leaders in the array.**\n",
        "\n",
        "**Note: An element of array is leader if it is greater than or equal to all the elements to its right side. Also, the rightmost element is always a leader.**\n",
        "\n",
        "**The first line of input contains an integer T denoting the number of test cases. The description of T test cases follows.The first line of each test case contains a single integer N denoting the size of array.The second line contains N space-separated integers A1, A2, ..., AN denoting the elements of the array.**\n",
        "\n",
        "\n",
        "\n",
        "```\n",
        "Input:\n",
        "3\n",
        "6\n",
        "16 17 4 3 5 2\n",
        "5\n",
        "1 2 3 4 0\n",
        "5\n",
        "7 4 5 7 3\n",
        "Output:\n",
        "17 5 2\n",
        "4 0\n",
        "7 7 3\n",
        "```\n",
        "\n"
      ]
    },
    {
      "cell_type": "markdown",
      "metadata": {
        "id": "PNUTrBi6f8DX"
      },
      "source": [
        "#Day 91\n",
        "\n",
        "**Last index of One**\n",
        "\n",
        "**Given a string S consisting only '0's and '1's,  print the last index of the '1' present in it.**\n",
        "\n",
        "**First line of the input contains the number of test cases T, T lines follow each containing a stream of characters.**\n",
        "\n",
        "\n",
        "```\n",
        "Input:\n",
        "2\n",
        "00001\n",
        "0\n",
        "Output:\n",
        "4\n",
        "-1\n",
        "```\n",
        "\n"
      ]
    },
    {
      "cell_type": "markdown",
      "metadata": {
        "id": "N93vZcodjOqL"
      },
      "source": [
        "#Day 92\n",
        "\n",
        "**Given an array arr[] and a number K where K is smaller than size of array, the task is to find the Kth smallest element in the given array. It is given that all array elements are distinct.**\n",
        "\n",
        "**The first line of input contains an integer T, denoting the number of testcases. Then T test cases follow. Each test case consists of three lines. First line of each testcase contains an integer N denoting size of the array. Second line contains N space separated integer denoting elements of the array. Third line of the test case contains an integer K.**\n",
        "\n",
        "\n",
        "\n",
        "\n",
        "```\n",
        "Input:\n",
        "2\n",
        "6\n",
        "7 10 4 3 20 15\n",
        "3\n",
        "5\n",
        "7 10 4 20 15\n",
        "4\n",
        "Output:\n",
        "7\n",
        "15\n",
        "```\n",
        "\n"
      ]
    },
    {
      "cell_type": "markdown",
      "metadata": {
        "id": "znmL_50KhrQS"
      },
      "source": [
        "#Day 93\n",
        "\n",
        "**Comparing arrays**\n",
        "\n",
        "\n",
        "**This problem helps one to understand the key concepts of an array(list) in Python. Two arrays are said to be the same if they contain the same elements and in the same order. However, in this problem, we will compare two arrays to see if they are same, but with a slight twist. Here, two arrays are the same if the elements of one array are squares of elements of other arrays and regardless of the order. Consider two arrays a and b.**\n",
        "\n",
        "\n",
        "\n",
        "```\n",
        "Input  : a = [121, 144, 19, 161, 19, 144, 19, 11]\n",
        "         b = [121, 14641, 20736, 361, 25921, 361, 20736, 361]\n",
        "\n",
        "Output : True\n",
        "```\n",
        "\n"
      ]
    },
    {
      "cell_type": "markdown",
      "metadata": {
        "id": "PK0GBz_Uyck6"
      },
      "source": [
        "#Day 94\n",
        "\n",
        "**Givens Two number N and K, our task is to subtract a number K from N until number(N) is greater than zero, once the N becomes negative or zero then we start adding K until that number become the original number(N).\n",
        "Note : Not allow to use any loop.**\n",
        "\n",
        "\n",
        "\n",
        "```\n",
        "Input : N=15,k=5\n",
        "\n",
        "\n",
        "Output : 15 10 5 0 5 10 15 \n",
        "```\n",
        "\n"
      ]
    },
    {
      "cell_type": "markdown",
      "metadata": {
        "id": "t74F-hP9zMEx"
      },
      "source": [
        "#Day 95\n",
        "\n",
        "**Check if a triangle of positive area is possible with the given angles**\n",
        "\n",
        "\n",
        "**Given three angles. The task is to check if it is possible to have a triangle of positive area with these angles. If it is possible print “YES” else print “NO”.**\n",
        "\n",
        "\n",
        "\n",
        "\n",
        "```\n",
        "Input : ang1 = 50, ang2 = 60, ang3 = 70 \n",
        "Output : YES\n",
        "\n",
        "Input : ang1 = 50, ang2 = 65, ang3 = 80\n",
        "Output : NO\n",
        "```\n",
        "\n"
      ]
    },
    {
      "cell_type": "markdown",
      "metadata": {
        "id": "Msx2-1vghnLJ"
      },
      "source": [
        "#Day 96\n",
        "\n",
        "**Find minimum sum of factors of number**\n",
        "\n",
        "\n",
        "\n",
        "```\n",
        "Input : 12\n",
        "Output : 7\n",
        "sum of factors in different ways.\n",
        "12 = 12 * 1 = 12 + 1 = 13\n",
        "12 = 2 * 6 = 2 + 6 = 8\n",
        "12 = 3 * 4 = 3 + 4 = 7\n",
        "12 = 2 * 2 * 3 = 2 + 2 + 3 = 7\n",
        "Therefore minimum sum is 7\n",
        "\n",
        "Input : 105\n",
        "Output : 15\n",
        "```\n",
        "\n"
      ]
    },
    {
      "cell_type": "markdown",
      "metadata": {
        "id": "n7eZWHLu2V27"
      },
      "source": [
        "#Day 97\n",
        "\n",
        "**Find largest prime factor of a number**\n",
        "\n",
        "\n",
        "\n",
        "```\n",
        "Input: 6\n",
        "Output: 3\n",
        "Explanation\n",
        "Prime factor of 6 are- 2, 3\n",
        "Largest of them is 3\n",
        "\n",
        "Input: 15\n",
        "Output: 5\n",
        "\n",
        "\n",
        "Input : 25698751364526\n",
        "```\n",
        "\n"
      ]
    },
    {
      "cell_type": "markdown",
      "metadata": {
        "id": "FPmpdpMs2Uek"
      },
      "source": [
        "#Day 97\n",
        "\n",
        "**Find largest prime factor of a number**\n",
        "\n",
        "\n",
        "\n",
        "```\n",
        "Input: 6\n",
        "Output: 3\n",
        "Explanation\n",
        "Prime factor of 6 are- 2, 3\n",
        "Largest of them is 3\n",
        "\n",
        "Input: 15\n",
        "Output: 5\n",
        "\n",
        "\n",
        "Input : 25698751364526\n",
        "```\n",
        "\n"
      ]
    },
    {
      "cell_type": "markdown",
      "metadata": {
        "id": "MrS1O4X2cHME"
      },
      "source": [
        "#Day 98\n",
        "\n",
        "**check if the list contains three consecutive common numbers in Python**\n",
        "\n",
        "\n",
        "\n",
        "```\n",
        "Input : 4, 5, 5, 5, 3, 8\n",
        "\n",
        "Output: 5\n",
        "\n",
        "Input : 1, 1, 1, 64, 23, 64, 22, 22, 22\n",
        "\n",
        "Output : 1, 22\n",
        "```\n"
      ]
    },
    {
      "cell_type": "markdown",
      "metadata": {
        "id": "vwprDsVsOzd9"
      },
      "source": [
        "#Day 99\n",
        "\n",
        "**Substitute character with its occurrence**\n",
        "\n",
        "\n",
        "\n",
        "```\n",
        "Input : Tech siddhar is Tamil programming YouTube channel\n",
        "\n",
        "        T\n",
        "\n",
        "Output : 1ech siddhar is 2amil programming You3ube channel\n",
        "```\n",
        "\n"
      ]
    },
    {
      "cell_type": "markdown",
      "metadata": {
        "id": "mRbe7myISyVi"
      },
      "source": [
        "#Day 100\n",
        "\n",
        "**Create an OTP by squaring and concatenating the odd digits of a number**\n",
        "\n",
        "\n",
        "\n",
        "```\n",
        "Input: 4365188\n",
        "Output: 9256\n",
        "\n",
        "Input: 123456\n",
        "Output: 4163\n",
        "```\n",
        "\n"
      ]
    }
  ]
}